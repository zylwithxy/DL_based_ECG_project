{
 "cells": [
  {
   "cell_type": "code",
   "execution_count": 6,
   "metadata": {},
   "outputs": [],
   "source": [
    "from tools import accuracy\n",
    "import torch\n",
    "import torch.nn as nn"
   ]
  },
  {
   "cell_type": "code",
   "execution_count": 14,
   "metadata": {},
   "outputs": [],
   "source": [
    "logits = torch.zeros(10, 101) # Nx(1+K)\n",
    "logits[:, 0] = 1\n",
    "logits[:, 1] = 1\n",
    "logits = nn.functional.normalize(logits, dim=1)\n",
    "labels = torch.zeros(logits.shape[0], dtype=torch.long)"
   ]
  },
  {
   "cell_type": "code",
   "execution_count": 15,
   "metadata": {},
   "outputs": [
    {
     "name": "stdout",
     "output_type": "stream",
     "text": [
      "<class 'torch.Tensor'>\n"
     ]
    }
   ],
   "source": [
    "acc1, acc5 = accuracy(logits, labels, topk=(1, 5))\n",
    "print(type(acc1[0]))"
   ]
  }
 ],
 "metadata": {
  "interpreter": {
   "hash": "47c51799c7cdc25fbecf4eb2dcbde865b21b4c72e55a84c51de7a794fb1c8fe6"
  },
  "kernelspec": {
   "display_name": "Python 3.9.7 64-bit ('XUEYu3': conda)",
   "name": "python3"
  },
  "language_info": {
   "codemirror_mode": {
    "name": "ipython",
    "version": 3
   },
   "file_extension": ".py",
   "mimetype": "text/x-python",
   "name": "python",
   "nbconvert_exporter": "python",
   "pygments_lexer": "ipython3",
   "version": "3.9.7"
  },
  "orig_nbformat": 4
 },
 "nbformat": 4,
 "nbformat_minor": 2
}